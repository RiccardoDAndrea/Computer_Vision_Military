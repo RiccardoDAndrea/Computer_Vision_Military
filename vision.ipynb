{
 "cells": [
  {
   "cell_type": "code",
   "execution_count": 24,
   "metadata": {},
   "outputs": [],
   "source": [
    "import ee \n",
    "import geemap\n",
    "\n"
   ]
  },
  {
   "cell_type": "code",
   "execution_count": 25,
   "metadata": {},
   "outputs": [
    {
     "data": {
      "text/html": [
       "<p>To authorize access needed by Earth Engine, open the following\n",
       "        URL in a web browser and follow the instructions:</p>\n",
       "        <p><a href=https://code.earthengine.google.com/client-auth?scopes=https%3A//www.googleapis.com/auth/earthengine%20https%3A//www.googleapis.com/auth/devstorage.full_control&request_id=iTZcErjhSwLsqSwL0OSUtLTrMnSyd11dD1hhyvbNZNg&tc=-rEm6Y7mC6JusFtPUsAERJiHEtl5UW0j4LCmra1JoHA&cc=-LSyT5aiSZx_VWREoOZle40fLA-A4glXy6gWBJ88qyY>https://code.earthengine.google.com/client-auth?scopes=https%3A//www.googleapis.com/auth/earthengine%20https%3A//www.googleapis.com/auth/devstorage.full_control&request_id=iTZcErjhSwLsqSwL0OSUtLTrMnSyd11dD1hhyvbNZNg&tc=-rEm6Y7mC6JusFtPUsAERJiHEtl5UW0j4LCmra1JoHA&cc=-LSyT5aiSZx_VWREoOZle40fLA-A4glXy6gWBJ88qyY</a></p>\n",
       "        <p>The authorization workflow will generate a code, which you should paste in the box below.</p>\n",
       "        "
      ],
      "text/plain": [
       "<IPython.core.display.HTML object>"
      ]
     },
     "metadata": {},
     "output_type": "display_data"
    },
    {
     "name": "stdout",
     "output_type": "stream",
     "text": [
      "\n",
      "Successfully saved authorization token.\n"
     ]
    }
   ],
   "source": [
    "ee.Authenticate()"
   ]
  },
  {
   "cell_type": "code",
   "execution_count": 26,
   "metadata": {},
   "outputs": [],
   "source": [
    "Key = \"4/1AVHEtk50tvNzduW0p0agNpOyjoGYJUv5BTxv38FiduNEf4IIsx0Z1WtfPS0\""
   ]
  },
  {
   "cell_type": "code",
   "execution_count": 27,
   "metadata": {},
   "outputs": [],
   "source": [
    "ee.Initialize()"
   ]
  },
  {
   "cell_type": "code",
   "execution_count": 28,
   "metadata": {},
   "outputs": [],
   "source": [
    "Map = geemap.Map()\n",
    "# Füge die Google-Satelliten als Hintergrundkarte hinzu\n",
    "Map = Map.add_basemap('SATELLITE')\n",
    "Map"
   ]
  },
  {
   "cell_type": "code",
   "execution_count": 29,
   "metadata": {},
   "outputs": [
    {
     "ename": "EEException",
     "evalue": "Collection.loadTable: Collection asset 'TIGER/2018/Roads' not found.",
     "output_type": "error",
     "traceback": [
      "\u001b[0;31m---------------------------------------------------------------------------\u001b[0m",
      "\u001b[0;31mHttpError\u001b[0m                                 Traceback (most recent call last)",
      "File \u001b[0;32m~/Desktop/python/app/lib/python3.9/site-packages/ee/data.py:337\u001b[0m, in \u001b[0;36m_execute_cloud_call\u001b[0;34m(call, num_retries)\u001b[0m\n\u001b[1;32m    336\u001b[0m \u001b[39mtry\u001b[39;00m:\n\u001b[0;32m--> 337\u001b[0m   \u001b[39mreturn\u001b[39;00m call\u001b[39m.\u001b[39;49mexecute(num_retries\u001b[39m=\u001b[39;49mnum_retries)\n\u001b[1;32m    338\u001b[0m \u001b[39mexcept\u001b[39;00m googleapiclient\u001b[39m.\u001b[39merrors\u001b[39m.\u001b[39mHttpError \u001b[39mas\u001b[39;00m e:\n",
      "File \u001b[0;32m~/Desktop/python/app/lib/python3.9/site-packages/googleapiclient/_helpers.py:130\u001b[0m, in \u001b[0;36mpositional.<locals>.positional_decorator.<locals>.positional_wrapper\u001b[0;34m(*args, **kwargs)\u001b[0m\n\u001b[1;32m    129\u001b[0m         logger\u001b[39m.\u001b[39mwarning(message)\n\u001b[0;32m--> 130\u001b[0m \u001b[39mreturn\u001b[39;00m wrapped(\u001b[39m*\u001b[39;49margs, \u001b[39m*\u001b[39;49m\u001b[39m*\u001b[39;49mkwargs)\n",
      "File \u001b[0;32m~/Desktop/python/app/lib/python3.9/site-packages/googleapiclient/http.py:938\u001b[0m, in \u001b[0;36mHttpRequest.execute\u001b[0;34m(self, http, num_retries)\u001b[0m\n\u001b[1;32m    937\u001b[0m \u001b[39mif\u001b[39;00m resp\u001b[39m.\u001b[39mstatus \u001b[39m>\u001b[39m\u001b[39m=\u001b[39m \u001b[39m300\u001b[39m:\n\u001b[0;32m--> 938\u001b[0m     \u001b[39mraise\u001b[39;00m HttpError(resp, content, uri\u001b[39m=\u001b[39m\u001b[39mself\u001b[39m\u001b[39m.\u001b[39muri)\n\u001b[1;32m    939\u001b[0m \u001b[39mreturn\u001b[39;00m \u001b[39mself\u001b[39m\u001b[39m.\u001b[39mpostproc(resp, content)\n",
      "\u001b[0;31mHttpError\u001b[0m: <HttpError 400 when requesting https://earthengine.googleapis.com/v1alpha/projects/earthengine-legacy/maps?fields=name&alt=json returned \"Collection.loadTable: Collection asset 'TIGER/2018/Roads' not found.\". Details: \"Collection.loadTable: Collection asset 'TIGER/2018/Roads' not found.\">",
      "\nDuring handling of the above exception, another exception occurred:\n",
      "\u001b[0;31mEEException\u001b[0m                               Traceback (most recent call last)",
      "Cell \u001b[0;32mIn[29], line 5\u001b[0m\n\u001b[1;32m      3\u001b[0m Map\u001b[39m.\u001b[39madd_basemap(\u001b[39m'\u001b[39m\u001b[39mSATELLITE\u001b[39m\u001b[39m'\u001b[39m)\n\u001b[1;32m      4\u001b[0m roads \u001b[39m=\u001b[39m ee\u001b[39m.\u001b[39mFeatureCollection(\u001b[39m'\u001b[39m\u001b[39mTIGER/2018/Roads\u001b[39m\u001b[39m'\u001b[39m)\n\u001b[0;32m----> 5\u001b[0m Map\u001b[39m.\u001b[39;49maddLayer(roads, {}, \u001b[39m'\u001b[39;49m\u001b[39mStraßen\u001b[39;49m\u001b[39m'\u001b[39;49m)\n\u001b[1;32m      6\u001b[0m cities \u001b[39m=\u001b[39m ee\u001b[39m.\u001b[39mFeatureCollection(\u001b[39m'\u001b[39m\u001b[39mTIGER/2018/Places\u001b[39m\u001b[39m'\u001b[39m)\n\u001b[1;32m      7\u001b[0m Map\u001b[39m.\u001b[39maddLayer(cities, {\u001b[39m'\u001b[39m\u001b[39mcolor\u001b[39m\u001b[39m'\u001b[39m: \u001b[39m'\u001b[39m\u001b[39mFF0000\u001b[39m\u001b[39m'\u001b[39m}, \u001b[39m'\u001b[39m\u001b[39mStädte\u001b[39m\u001b[39m'\u001b[39m)\n",
      "File \u001b[0;32m~/Desktop/python/app/lib/python3.9/site-packages/geemap/geemap.py:1492\u001b[0m, in \u001b[0;36mMap.add_ee_layer\u001b[0;34m(self, ee_object, vis_params, name, shown, opacity)\u001b[0m\n\u001b[1;32m   1487\u001b[0m     \u001b[39melif\u001b[39;00m \u001b[39mnot\u001b[39;00m \u001b[39misinstance\u001b[39m(vis_params[\u001b[39m\"\u001b[39m\u001b[39mpalette\u001b[39m\u001b[39m\"\u001b[39m], \u001b[39mlist\u001b[39m):\n\u001b[1;32m   1488\u001b[0m         \u001b[39mraise\u001b[39;00m \u001b[39mValueError\u001b[39;00m(\n\u001b[1;32m   1489\u001b[0m             \u001b[39m\"\u001b[39m\u001b[39mThe palette must be a list of colors or a string or a Box object.\u001b[39m\u001b[39m\"\u001b[39m\n\u001b[1;32m   1490\u001b[0m         )\n\u001b[0;32m-> 1492\u001b[0m map_id_dict \u001b[39m=\u001b[39m ee\u001b[39m.\u001b[39;49mImage(image)\u001b[39m.\u001b[39;49mgetMapId(vis_params)\n\u001b[1;32m   1493\u001b[0m url \u001b[39m=\u001b[39m map_id_dict[\u001b[39m\"\u001b[39m\u001b[39mtile_fetcher\u001b[39m\u001b[39m\"\u001b[39m]\u001b[39m.\u001b[39murl_format\n\u001b[1;32m   1494\u001b[0m tile_layer \u001b[39m=\u001b[39m ipyleaflet\u001b[39m.\u001b[39mTileLayer(\n\u001b[1;32m   1495\u001b[0m     url\u001b[39m=\u001b[39murl,\n\u001b[1;32m   1496\u001b[0m     attribution\u001b[39m=\u001b[39m\u001b[39m\"\u001b[39m\u001b[39mGoogle Earth Engine\u001b[39m\u001b[39m\"\u001b[39m,\n\u001b[0;32m   (...)\u001b[0m\n\u001b[1;32m   1500\u001b[0m     max_zoom\u001b[39m=\u001b[39m\u001b[39m24\u001b[39m,\n\u001b[1;32m   1501\u001b[0m )\n",
      "File \u001b[0;32m~/Desktop/python/app/lib/python3.9/site-packages/ee/image.py:130\u001b[0m, in \u001b[0;36mImage.getMapId\u001b[0;34m(self, vis_params)\u001b[0m\n\u001b[1;32m    128\u001b[0m vis_image, request \u001b[39m=\u001b[39m \u001b[39mself\u001b[39m\u001b[39m.\u001b[39m_apply_visualization(vis_params)\n\u001b[1;32m    129\u001b[0m request[\u001b[39m'\u001b[39m\u001b[39mimage\u001b[39m\u001b[39m'\u001b[39m] \u001b[39m=\u001b[39m vis_image\n\u001b[0;32m--> 130\u001b[0m response \u001b[39m=\u001b[39m data\u001b[39m.\u001b[39;49mgetMapId(request)\n\u001b[1;32m    131\u001b[0m response[\u001b[39m'\u001b[39m\u001b[39mimage\u001b[39m\u001b[39m'\u001b[39m] \u001b[39m=\u001b[39m \u001b[39mself\u001b[39m\n\u001b[1;32m    132\u001b[0m \u001b[39mreturn\u001b[39;00m response\n",
      "File \u001b[0;32m~/Desktop/python/app/lib/python3.9/site-packages/ee/data.py:635\u001b[0m, in \u001b[0;36mgetMapId\u001b[0;34m(params)\u001b[0m\n\u001b[1;32m    630\u001b[0m queryParams \u001b[39m=\u001b[39m {\n\u001b[1;32m    631\u001b[0m     \u001b[39m'\u001b[39m\u001b[39mfields\u001b[39m\u001b[39m'\u001b[39m: \u001b[39m'\u001b[39m\u001b[39mname\u001b[39m\u001b[39m'\u001b[39m,\n\u001b[1;32m    632\u001b[0m     \u001b[39m'\u001b[39m\u001b[39mbody\u001b[39m\u001b[39m'\u001b[39m: request,\n\u001b[1;32m    633\u001b[0m }\n\u001b[1;32m    634\u001b[0m _maybe_populate_workload_tag(queryParams)\n\u001b[0;32m--> 635\u001b[0m result \u001b[39m=\u001b[39m _execute_cloud_call(\n\u001b[1;32m    636\u001b[0m     _get_cloud_api_resource()\u001b[39m.\u001b[39;49mprojects()\u001b[39m.\u001b[39;49mmaps()\u001b[39m.\u001b[39;49mcreate(\n\u001b[1;32m    637\u001b[0m         parent\u001b[39m=\u001b[39;49m_get_projects_path(), \u001b[39m*\u001b[39;49m\u001b[39m*\u001b[39;49mqueryParams))\n\u001b[1;32m    638\u001b[0m map_name \u001b[39m=\u001b[39m result[\u001b[39m'\u001b[39m\u001b[39mname\u001b[39m\u001b[39m'\u001b[39m]\n\u001b[1;32m    639\u001b[0m url_format \u001b[39m=\u001b[39m \u001b[39m'\u001b[39m\u001b[39m%s\u001b[39;00m\u001b[39m/\u001b[39m\u001b[39m%s\u001b[39;00m\u001b[39m/\u001b[39m\u001b[39m%s\u001b[39;00m\u001b[39m/tiles/\u001b[39m\u001b[39m{z}\u001b[39;00m\u001b[39m/\u001b[39m\u001b[39m{x}\u001b[39;00m\u001b[39m/\u001b[39m\u001b[39m{y}\u001b[39;00m\u001b[39m'\u001b[39m \u001b[39m%\u001b[39m (\n\u001b[1;32m    640\u001b[0m     _tile_base_url, _cloud_api_utils\u001b[39m.\u001b[39mVERSION, map_name)\n",
      "File \u001b[0;32m~/Desktop/python/app/lib/python3.9/site-packages/ee/data.py:339\u001b[0m, in \u001b[0;36m_execute_cloud_call\u001b[0;34m(call, num_retries)\u001b[0m\n\u001b[1;32m    337\u001b[0m   \u001b[39mreturn\u001b[39;00m call\u001b[39m.\u001b[39mexecute(num_retries\u001b[39m=\u001b[39mnum_retries)\n\u001b[1;32m    338\u001b[0m \u001b[39mexcept\u001b[39;00m googleapiclient\u001b[39m.\u001b[39merrors\u001b[39m.\u001b[39mHttpError \u001b[39mas\u001b[39;00m e:\n\u001b[0;32m--> 339\u001b[0m   \u001b[39mraise\u001b[39;00m _translate_cloud_exception(e)\n",
      "\u001b[0;31mEEException\u001b[0m: Collection.loadTable: Collection asset 'TIGER/2018/Roads' not found."
     ]
    }
   ],
   "source": [
    "roi = ee.Geometry.Rectangle([13.0837, 52.3244, 13.7682, 52.6724])\n",
    "Map = geemap.Map()\n",
    "Map.add_basemap('SATELLITE')\n",
    "roads = ee.FeatureCollection('TIGER/2018/Roads')\n",
    "Map.addLayer(roads, {}, 'Straßen')\n",
    "cities = ee.FeatureCollection('TIGER/2018/Places')\n",
    "Map.addLayer(cities, {'color': 'FF0000'}, 'Städte')\n",
    "elevation = ee.Image('USGS/SRTMGL1_003')\n",
    "Map.addLayer(elevation, {'min': 0, 'max': 3000}, 'Geländekonturen')\n",
    "Map.centerObject(roi, zoom=10)\n",
    "Map\n",
    "\n",
    "#In diesem Beispiel wird eine Karte mit den Google-Satellitenbildern als Hintergrundkarte angezeigt. Auf der Karte sind Straßen, Städte und Geländekonturen als separate Ebenen dargestellt. Das ROI ist das von Berlin und die Karte ist auf das ROI zentriert.\n",
    "\n",
    "\n",
    "#In diesem Beispiel wird das mittlere Bild der Sentinel-2-Satellitenbilder für das Jahr 2022 in der ROI von Berlin angezeigt. Das Bild wird in den Bändern 4, 3 und 2 dargestellt und die Pixelwerte sind zwischen 0 und 3000 skaliert.\n"
   ]
  },
  {
   "cell_type": "code",
   "execution_count": null,
   "metadata": {},
   "outputs": [],
   "source": []
  },
  {
   "cell_type": "code",
   "execution_count": null,
   "metadata": {},
   "outputs": [],
   "source": []
  }
 ],
 "metadata": {
  "kernelspec": {
   "display_name": "app",
   "language": "python",
   "name": "python3"
  },
  "language_info": {
   "codemirror_mode": {
    "name": "ipython",
    "version": 3
   },
   "file_extension": ".py",
   "mimetype": "text/x-python",
   "name": "python",
   "nbconvert_exporter": "python",
   "pygments_lexer": "ipython3",
   "version": "3.9.12"
  },
  "orig_nbformat": 4
 },
 "nbformat": 4,
 "nbformat_minor": 2
}
